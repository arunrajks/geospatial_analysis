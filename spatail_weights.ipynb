{
 "cells": [
  {
   "cell_type": "code",
   "execution_count": 14,
   "metadata": {},
   "outputs": [],
   "source": [
    "import xarray as xr\n",
    "import pandas as pd\n",
    "import geopandas as gpd\n",
    "import matplotlib.pyplot as plt\n",
    "from pysal.lib import weights\n",
    "import numpy as np\n",
    "from shapely.geometry import Polygon"
   ]
  },
  {
   "cell_type": "code",
   "execution_count": null,
   "metadata": {},
   "outputs": [],
   "source": []
  },
  {
   "cell_type": "markdown",
   "metadata": {},
   "source": [
    "#### Contiguity weights"
   ]
  },
  {
   "cell_type": "code",
   "execution_count": 15,
   "metadata": {},
   "outputs": [
    {
     "data": {
      "text/html": [
       "<div>\n",
       "<style scoped>\n",
       "    .dataframe tbody tr th:only-of-type {\n",
       "        vertical-align: middle;\n",
       "    }\n",
       "\n",
       "    .dataframe tbody tr th {\n",
       "        vertical-align: top;\n",
       "    }\n",
       "\n",
       "    .dataframe thead th {\n",
       "        text-align: right;\n",
       "    }\n",
       "</style>\n",
       "<table border=\"1\" class=\"dataframe\">\n",
       "  <thead>\n",
       "    <tr style=\"text-align: right;\">\n",
       "      <th></th>\n",
       "      <th>geometry</th>\n",
       "      <th>id</th>\n",
       "    </tr>\n",
       "  </thead>\n",
       "  <tbody>\n",
       "    <tr>\n",
       "      <th>0</th>\n",
       "      <td>POLYGON ((0.00000 0.00000, 1.00000 0.00000, 1....</td>\n",
       "      <td>P-00</td>\n",
       "    </tr>\n",
       "    <tr>\n",
       "      <th>1</th>\n",
       "      <td>POLYGON ((1.00000 0.00000, 2.00000 0.00000, 2....</td>\n",
       "      <td>P-01</td>\n",
       "    </tr>\n",
       "    <tr>\n",
       "      <th>2</th>\n",
       "      <td>POLYGON ((2.00000 0.00000, 3.00000 0.00000, 3....</td>\n",
       "      <td>P-02</td>\n",
       "    </tr>\n",
       "    <tr>\n",
       "      <th>3</th>\n",
       "      <td>POLYGON ((0.00000 1.00000, 1.00000 1.00000, 1....</td>\n",
       "      <td>P-03</td>\n",
       "    </tr>\n",
       "    <tr>\n",
       "      <th>4</th>\n",
       "      <td>POLYGON ((1.00000 1.00000, 2.00000 1.00000, 2....</td>\n",
       "      <td>P-04</td>\n",
       "    </tr>\n",
       "    <tr>\n",
       "      <th>5</th>\n",
       "      <td>POLYGON ((2.00000 1.00000, 3.00000 1.00000, 3....</td>\n",
       "      <td>P-05</td>\n",
       "    </tr>\n",
       "    <tr>\n",
       "      <th>6</th>\n",
       "      <td>POLYGON ((0.00000 2.00000, 1.00000 2.00000, 1....</td>\n",
       "      <td>P-06</td>\n",
       "    </tr>\n",
       "    <tr>\n",
       "      <th>7</th>\n",
       "      <td>POLYGON ((1.00000 2.00000, 2.00000 2.00000, 2....</td>\n",
       "      <td>P-07</td>\n",
       "    </tr>\n",
       "    <tr>\n",
       "      <th>8</th>\n",
       "      <td>POLYGON ((2.00000 2.00000, 3.00000 2.00000, 3....</td>\n",
       "      <td>P-08</td>\n",
       "    </tr>\n",
       "  </tbody>\n",
       "</table>\n",
       "</div>"
      ],
      "text/plain": [
       "                                            geometry    id\n",
       "0  POLYGON ((0.00000 0.00000, 1.00000 0.00000, 1....  P-00\n",
       "1  POLYGON ((1.00000 0.00000, 2.00000 0.00000, 2....  P-01\n",
       "2  POLYGON ((2.00000 0.00000, 3.00000 0.00000, 3....  P-02\n",
       "3  POLYGON ((0.00000 1.00000, 1.00000 1.00000, 1....  P-03\n",
       "4  POLYGON ((1.00000 1.00000, 2.00000 1.00000, 2....  P-04\n",
       "5  POLYGON ((2.00000 1.00000, 3.00000 1.00000, 3....  P-05\n",
       "6  POLYGON ((0.00000 2.00000, 1.00000 2.00000, 1....  P-06\n",
       "7  POLYGON ((1.00000 2.00000, 2.00000 2.00000, 2....  P-07\n",
       "8  POLYGON ((2.00000 2.00000, 3.00000 2.00000, 3....  P-08"
      ]
     },
     "execution_count": 15,
     "metadata": {},
     "output_type": "execute_result"
    }
   ],
   "source": [
    "# Get points in a grid\n",
    "l = np.arange(3)\n",
    "xs, ys = np.meshgrid(l, l)\n",
    "# Set up store\n",
    "polys = []\n",
    "# Generate polygons\n",
    "for x, y in zip(xs.flatten(), ys.flatten()):\n",
    "    poly = Polygon([(x, y), (x + 1, y), (x + 1, y + 1), (x, y + 1)])\n",
    "    polys.append(poly)\n",
    "# Convert to GeoSeries\n",
    "polys = gpd.GeoSeries(polys)\n",
    "gdf = gpd.GeoDataFrame(\n",
    "    {\n",
    "        \"geometry\": polys,\n",
    "        \"id\": [\"P-%s\" % str(i).zfill(2) for i in range(len(polys))],\n",
    "    }\n",
    ")\n",
    "gdf"
   ]
  },
  {
   "cell_type": "code",
   "execution_count": 20,
   "metadata": {},
   "outputs": [
    {
     "data": {
      "image/png": "[encoded data removed]",
      "text/plain": [
       "<Figure size 640x480 with 1 Axes>"
      ]
     },
     "metadata": {},
     "output_type": "display_data"
    }
   ],
   "source": [
    "ax = gdf.plot(facecolor=\"w\", edgecolor=\"k\")\n",
    "\n",
    "# Loop over each cell and add the text\n",
    "for x, y, t in zip(\n",
    "    [p.centroid.x - 0.25 for p in polys],\n",
    "    [p.centroid.y - 0.25 for p in polys],\n",
    "    [i for i in gdf[\"id\"]],\n",
    "):\n",
    "    plt.text(\n",
    "        x,\n",
    "        y,\n",
    "        t,\n",
    "        verticalalignment=\"center\",\n",
    "        horizontalalignment=\"center\",\n",
    "    )\n",
    "\n",
    "# Remove axes\n",
    "ax.set_axis_off()\n",
    "\n",
    "# Build a rook contiguity matrix from a regular 3x3\n",
    "# lattice stored in a geo-table\n",
    "wr = weights.contiguity.Rook.from_dataframe(gdf, use_index=False)"
   ]
  },
  {
   "cell_type": "code",
   "execution_count": null,
   "metadata": {},
   "outputs": [],
   "source": []
  }
 ],
 "metadata": {
  "kernelspec": {
   "display_name": "gee",
   "language": "python",
   "name": "python3"
  },
  "language_info": {
   "codemirror_mode": {
    "name": "ipython",
    "version": 3
   },
   "file_extension": ".py",
   "mimetype": "text/x-python",
   "name": "python",
   "nbconvert_exporter": "python",
   "pygments_lexer": "ipython3",
   "version": "3.11.5"
  }
 },
 "nbformat": 4,
 "nbformat_minor": 2
}
